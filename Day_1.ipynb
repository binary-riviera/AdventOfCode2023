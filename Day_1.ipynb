{
 "cells": [
  {
   "cell_type": "markdown",
   "id": "19f450be-a53f-4e23-8abe-5d2adbdcae87",
   "metadata": {},
   "source": [
    "# Day 1: Trebuchet?!\n",
    "\n",
    "## Part 1:\n",
    "\n",
    "> The newly-improved calibration document consists of lines of text; each line originally contained a specific calibration value that the Elves now need to recover. On each line, the calibration value can be found by combining the first digit and the last digit (in that order) to form a single two-digit number."
   ]
  },
  {
   "cell_type": "code",
   "execution_count": 1,
   "id": "73e0bf33-d403-4a74-b5e9-86ba028df1d7",
   "metadata": {},
   "outputs": [
    {
     "name": "stdout",
     "output_type": "stream",
     "text": [
      "['tsgbzmgbonethreedrqzbhxjkvcnm3', '7qlpsnhbmnconeeight78', 'prbqsfzqn57', 'ctrv3hmvjphrffktwothree']\n"
     ]
    }
   ],
   "source": [
    "from utils import *\n",
    "\n",
    "inp = read_input_as_list('day1', '')\n",
    "head(inp)"
   ]
  },
  {
   "cell_type": "code",
   "execution_count": 13,
   "id": "ff8f146f-59b4-4041-9b73-750527504dd5",
   "metadata": {},
   "outputs": [
    {
     "data": {
      "text/plain": [
       "55002"
      ]
     },
     "execution_count": 13,
     "metadata": {},
     "output_type": "execute_result"
    }
   ],
   "source": [
    "def get_calibration_value(line: str):\n",
    "    deq_line = deque(line)\n",
    "    first_n = None\n",
    "    last_n = None\n",
    "    while deq_line and not first_n:\n",
    "        if (c := deq_line.popleft()).isdigit():\n",
    "            first_n = c\n",
    "    while deq_line and not last_n:\n",
    "        if (c := deq_line.pop()).isdigit():\n",
    "            last_n = c\n",
    "    if not last_n:\n",
    "        return int(first_n * 2)\n",
    "    return int(first_n + last_n)\n",
    "\n",
    "assert get_calibration_value('pqr3stu8vwx') == 38\n",
    "assert get_calibration_value('1abc2') == 12\n",
    "assert get_calibration_value('a1b2c3d4e5f') == 15\n",
    "assert get_calibration_value('treb7uchet') == 77\n",
    "\n",
    "def part1(l):\n",
    "    return sum(map(get_calibration_value, l))\n",
    "    \n",
    "part1(inp)"
   ]
  },
  {
   "cell_type": "markdown",
   "id": "5db70700-f002-452a-bf00-dd08d2f9d319",
   "metadata": {},
   "source": [
    "That was definitely longer than it needed to be, I just wanted to use a deque.\n",
    "\n",
    "## Part 2:\n",
    "> Your calculation isn't quite right. It looks like some of the digits are actually spelled out with letters: one, two, three, four, five, six, seven, eight, and nine also count as valid \"digits\".\n",
    "\n",
    "Mmmm. Not a nice part 2 considering it's day 1. I think this is best done with lists, can see issues with popping the deque in the middle otherwise."
   ]
  },
  {
   "cell_type": "code",
   "execution_count": 38,
   "id": "cd4d86d6-fbd1-44bf-9f6b-e7bf04cc92cf",
   "metadata": {},
   "outputs": [
    {
     "data": {
      "text/plain": [
       "55093"
      ]
     },
     "execution_count": 38,
     "metadata": {},
     "output_type": "execute_result"
    }
   ],
   "source": [
    "digits = {'one': '1', 'two': '2', 'three': '3', 'four': '4', 'five': '5', 'six': '6', 'seven': '7', 'eight': '8', 'nine': '9'}\n",
    "\n",
    "def digit_check(l: list, reverse=False):\n",
    "    for x in range(0, len(l) + 1):\n",
    "        slc = l[len(l)-x:] if reverse else l[:x]\n",
    "        for d, n in digits.items():\n",
    "            if d in slc:\n",
    "                return n\n",
    "        for d in slc:\n",
    "            if d.isdigit():\n",
    "                return d\n",
    "    print(l)\n",
    "    raise \"Couldn't find digit\"\n",
    "            \n",
    "def get_digits(l: list):\n",
    "    return int(digit_check(l) + digit_check(l, True))\n",
    "\n",
    "assert get_digits('two1nine') == 29\n",
    "assert get_digits('eightwothree') == 83\n",
    "assert get_digits('abcone2threexyz') == 13\n",
    "assert get_digits('xtwone3four') == 24\n",
    "assert get_digits('4nineeightseven2') == 42\n",
    "assert get_digits('zoneight234') == 14\n",
    "assert get_digits('7pqrstsixteen') == 76\n",
    "\n",
    "def part2(l):\n",
    "    return sum(map(get_digits, l))\n",
    "\n",
    "part2(inp)"
   ]
  },
  {
   "cell_type": "markdown",
   "id": "672bf5cc-e95d-40a4-b981-2526632c1ed8",
   "metadata": {},
   "source": [
    "Not the cleanest code but still, day 1 is over :)"
   ]
  }
 ],
 "metadata": {
  "kernelspec": {
   "display_name": "Python 3 (ipykernel)",
   "language": "python",
   "name": "python3"
  },
  "language_info": {
   "codemirror_mode": {
    "name": "ipython",
    "version": 3
   },
   "file_extension": ".py",
   "mimetype": "text/x-python",
   "name": "python",
   "nbconvert_exporter": "python",
   "pygments_lexer": "ipython3",
   "version": "3.9.12"
  }
 },
 "nbformat": 4,
 "nbformat_minor": 5
}
