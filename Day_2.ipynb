{
 "cells": [
  {
   "cell_type": "markdown",
   "id": "87d68c02-6244-4ffa-9b99-532e03b68fcd",
   "metadata": {},
   "source": [
    "# Day 2: Cube Conundrum\n",
    "\n",
    "This is one of those AoC problems where the part 2 is the differentiator, and the approach for part 1 is either very useful or a complete write off.\n",
    "\n",
    "# Part 1:\n",
    "I have to find which games are valid for given set of coloured marbles."
   ]
  },
  {
   "cell_type": "code",
   "execution_count": 1,
   "id": "35cc142a-2202-4526-a8b2-a5b5c7366685",
   "metadata": {},
   "outputs": [
    {
     "name": "stdout",
     "output_type": "stream",
     "text": [
      "['Game 1: 8 green; 5 green, 6 blue, 1 red; 2 green, 1 blue, 4 red; 10 green, 1 red, 2 blue; 2 blue, 3 red', 'Game 2: 10 blue, 12 red; 8 red; 7 green, 5 red, 7 blue', 'Game 3: 1 red, 15 blue, 3 green; 8 blue, 2 red, 4 green; 2 red, 5 green, 9 blue', 'Game 4: 8 green, 4 blue, 1 red; 3 green; 4 blue, 1 red, 12 green; 5 green, 1 red, 8 blue; 3 green, 5 blue, 1 red']\n"
     ]
    }
   ],
   "source": [
    "from utils import *\n",
    "\n",
    "inp = read_input_as_list('day2', '')\n",
    "head(inp)"
   ]
  },
  {
   "cell_type": "code",
   "execution_count": 2,
   "id": "ad4ff7bb-6f72-43c6-9d94-2074c339f402",
   "metadata": {},
   "outputs": [
    {
     "data": {
      "text/plain": [
       "(1,\n",
       " [[(8, 'green')],\n",
       "  [(5, 'green'), (6, 'blue'), (1, 'red')],\n",
       "  [(2, 'green'), (1, 'blue'), (4, 'red')],\n",
       "  [(10, 'green'), (1, 'red'), (2, 'blue')],\n",
       "  [(2, 'blue'), (3, 'red')]])"
      ]
     },
     "execution_count": 2,
     "metadata": {},
     "output_type": "execute_result"
    }
   ],
   "source": [
    "def make_pairs(game):\n",
    "    return zip(map(int, game[::2]), map(lambda s: s.strip(','), game[1::2]))\n",
    "\n",
    "def parse_game(row: str):\n",
    "    game, row = row.split(':') # remove the `Game n:` part\n",
    "    return (int(game.split()[1]), [\n",
    "            list(make_pairs(r.split())) for r in row.split(';')\n",
    "    ])\n",
    "\n",
    "parse_game(inp[0])"
   ]
  },
  {
   "cell_type": "code",
   "execution_count": 3,
   "id": "dcc2e82e-940e-41ba-8e64-015ba220a9af",
   "metadata": {},
   "outputs": [
    {
     "data": {
      "text/plain": [
       "2149"
      ]
     },
     "execution_count": 3,
     "metadata": {},
     "output_type": "execute_result"
    }
   ],
   "source": [
    "rgb_map = {\n",
    "    'red': 0,\n",
    "    'green': 1,\n",
    "    'blue': 2,\n",
    "}\n",
    "\n",
    "def game_valid(game, rgb) -> bool:\n",
    "    for action in chain(*game):\n",
    "        if action[0] > rgb[rgb_map[action[1]]]:\n",
    "            return False\n",
    "    return True\n",
    "  \n",
    "rgb_1 = (12, 13, 14)\n",
    "\n",
    "assert game_valid(parse_game('Game 1: 3 blue, 4 red; 1 red, 2 green, 6 blue; 2 green')[1], rgb_1)\n",
    "assert game_valid(parse_game('Game 2: 1 blue, 2 green; 3 green, 4 blue, 1 red; 1 green, 1 blue')[1], rgb_1)\n",
    "assert not game_valid(parse_game('Game 3: 8 green, 6 blue, 20 red; 5 blue, 4 red, 13 green; 5 green, 1 red')[1], rgb_1)\n",
    "assert not game_valid(parse_game('Game 4: 1 green, 3 red, 6 blue; 3 green, 6 red; 3 green, 15 blue, 14 red')[1], rgb_1)\n",
    "assert game_valid(parse_game('Game 5: 6 red, 1 blue, 3 green; 2 blue, 1 red, 2 green')[1], rgb_1)\n",
    "\n",
    "def get_id_if_valid(game) -> int:\n",
    "    id_, g = parse_game(game)\n",
    "    return id_ if game_valid(g, rgb_1) else 0\n",
    "\n",
    "def part1(l):\n",
    "    return sum(map(get_id_if_valid, l))\n",
    "\n",
    "part1(inp)"
   ]
  },
  {
   "cell_type": "markdown",
   "id": "18ed6682-b485-469a-9670-37cf31761552",
   "metadata": {},
   "source": [
    "## Part 2:\n",
    "These questions aren't half waffling. Anyway, we need to find the product of the minimum number of red, green and blue values required to make each game valid. Turns out the work to get the individual turns was pointless."
   ]
  },
  {
   "cell_type": "code",
   "execution_count": 10,
   "id": "a73d57ea-f8be-4cd2-9327-8463ded9c82b",
   "metadata": {},
   "outputs": [
    {
     "data": {
      "text/plain": [
       "71274"
      ]
     },
     "execution_count": 10,
     "metadata": {},
     "output_type": "execute_result"
    }
   ],
   "source": [
    "from operator import mul\n",
    "\n",
    "def get_min_valid_product(game) -> int:\n",
    "    flat_game = chain(*game) # sigh...\n",
    "    last = lambda x : x[1]\n",
    "    just_counts = map(last, groupby(sorted(flat_game, key=last), last))\n",
    "    get_max = lambda z : max(map(lambda x : x[0], z))\n",
    "    return reduce(mul, map(get_max, just_counts), 1)\n",
    "\n",
    "assert get_min_valid_product(parse_game('Game 1: 3 blue, 4 red; 1 red, 2 green, 6 blue; 2 green')[1]) == 48\n",
    "assert get_min_valid_product(parse_game('Game 2: 1 blue, 2 green; 3 green, 4 blue, 1 red; 1 green, 1 blue')[1]) == 12\n",
    "assert get_min_valid_product(parse_game('Game 3: 8 green, 6 blue, 20 red; 5 blue, 4 red, 13 green; 5 green, 1 red')[1]) == 1560\n",
    "assert get_min_valid_product(parse_game('Game 4: 1 green, 3 red, 6 blue; 3 green, 6 red; 3 green, 15 blue, 14 red')[1]) == 630\n",
    "assert get_min_valid_product(parse_game('Game 5: 6 red, 1 blue, 3 green; 2 blue, 1 red, 2 green')[1]) == 36\n",
    "\n",
    "def part2(l):\n",
    "    return sum(map(lambda x : get_min_valid_product(parse_game(x)[1]), l))\n",
    "\n",
    "part2(inp)"
   ]
  },
  {
   "cell_type": "markdown",
   "id": "56c58078-9cdd-44ac-a770-94e0d11288e9",
   "metadata": {},
   "source": [
    "Not the most readable function in the world, and would probably have been shorter done imperatively. Still, we ball and that."
   ]
  }
 ],
 "metadata": {
  "kernelspec": {
   "display_name": "Python 3 (ipykernel)",
   "language": "python",
   "name": "python3"
  },
  "language_info": {
   "codemirror_mode": {
    "name": "ipython",
    "version": 3
   },
   "file_extension": ".py",
   "mimetype": "text/x-python",
   "name": "python",
   "nbconvert_exporter": "python",
   "pygments_lexer": "ipython3",
   "version": "3.9.12"
  }
 },
 "nbformat": 4,
 "nbformat_minor": 5
}
