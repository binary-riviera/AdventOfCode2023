{
 "cells": [
  {
   "cell_type": "markdown",
   "id": "eb818b24-c27e-40e2-87af-45d250fe7825",
   "metadata": {},
   "source": [
    "# Day 3: Gear Ratios\n",
    "\n",
    "## Part 1:\n",
    "> The engine schematic (your puzzle input) consists of a visual representation of the engine. There are lots of numbers and symbols you don't really understand, but apparently any number adjacent to a symbol, even diagonally, is a \"part number\" and should be included in your sum. (Periods (.) do not count as a symbol.)\n",
    "\n",
    "I thought this was a regex question but the diagonals throw things out. Think this has to be done imperatively..."
   ]
  },
  {
   "cell_type": "code",
   "execution_count": 2,
   "id": "e35ce3cb-b875-4f48-a8de-00dbb7a948fc",
   "metadata": {},
   "outputs": [
    {
     "name": "stdout",
     "output_type": "stream",
     "text": [
      "['...766.......821.547.....577......................................387.....................56..........446.793..........292..................', '...........................%...../.....981..........627..../..........-.....623......610..-..............*..................16......891.....', '...$...........716..&336.......470.325.................*.84........$..34....*.....+.....#.....*76....#.........303.433........-........&....', '.117../359.#...............595............129..963#..722..........128........192.313........31........887...............234.......-.........']\n"
     ]
    }
   ],
   "source": [
    "from utils import *\n",
    "\n",
    "inp = read_input_as_list('day3', '')\n",
    "head(inp)"
   ]
  },
  {
   "cell_type": "markdown",
   "id": "f0c92bc9-25cc-40e2-af2c-47c54a68d42e",
   "metadata": {},
   "source": [
    "The idea is to get all the numbers in the list, then get the surrounding areas, then count up the ones with punctuation in."
   ]
  },
  {
   "cell_type": "code",
   "execution_count": 45,
   "id": "554d4d91-9d39-4e65-90d9-1d605fbfa8c9",
   "metadata": {},
   "outputs": [
    {
     "data": {
      "text/plain": [
       "[(766, (0, 3), (0, 5)),\n",
       " (821, (0, 13), (0, 15)),\n",
       " (547, (0, 17), (0, 19)),\n",
       " (577, (0, 25), (0, 27)),\n",
       " (387, (0, 66), (0, 68)),\n",
       " (56, (0, 90), (0, 91)),\n",
       " (446, (0, 102), (0, 104)),\n",
       " (793, (0, 106), (0, 108)),\n",
       " (292, (0, 119), (0, 121)),\n",
       " (981, (1, 39), (1, 41)),\n",
       " (627, (1, 52), (1, 54)),\n",
       " (623, (1, 76), (1, 78)),\n",
       " (610, (1, 85), (1, 87)),\n",
       " (16, (1, 124), (1, 125)),\n",
       " (891, (1, 132), (1, 134))]"
      ]
     },
     "execution_count": 45,
     "metadata": {},
     "output_type": "execute_result"
    }
   ],
   "source": [
    "def get_numbers(grid):\n",
    "    numbers = []\n",
    "    for i in range(len(grid)):\n",
    "        j = 0\n",
    "        while j < len(grid[0]):\n",
    "            if grid[i][j].isdigit(): # we've found a number\n",
    "                start_idx = (i, j)\n",
    "                num = grid[i][j]\n",
    "                while j+1 < len(grid[0]) and grid[i][j+1].isdigit():\n",
    "                    num += grid[i][j+1]\n",
    "                    j += 1\n",
    "                numbers.append((int(num), start_idx, (i, j)))\n",
    "            j += 1\n",
    "    return numbers\n",
    "                \n",
    "get_numbers(inp[0:2])"
   ]
  },
  {
   "cell_type": "code",
   "execution_count": 46,
   "id": "a3812461-4cd0-4f45-800c-a6773ec2f23f",
   "metadata": {},
   "outputs": [
    {
     "data": {
      "text/plain": [
       "{'.', '6', '7'}"
      ]
     },
     "execution_count": 46,
     "metadata": {},
     "output_type": "execute_result"
    }
   ],
   "source": [
    "def surrounding_area(grid, start_idx, end_idx):\n",
    "    chars = []\n",
    "    for i in range(start_idx[0] - 1, end_idx[0] + 2):\n",
    "        for j in range(start_idx[1] - 1, end_idx[1] + 2):\n",
    "            if 0 <= i < len(grid) and 0 <= j < len(grid[0]):\n",
    "                try:\n",
    "                    chars.append(grid[i][j])\n",
    "                except:\n",
    "                    print(str(i) + ' ' + str(j))\n",
    "    return set(chars)\n",
    "\n",
    "surrounding_area(inp[0:4], (0, 3), (0, 5))"
   ]
  },
  {
   "cell_type": "code",
   "execution_count": 50,
   "id": "9ef3a164-abb7-488e-80ec-745df1c9001f",
   "metadata": {},
   "outputs": [
    {
     "data": {
      "text/plain": [
       "559667"
      ]
     },
     "execution_count": 50,
     "metadata": {},
     "output_type": "execute_result"
    }
   ],
   "source": [
    "symbols = { '&', '!', '+', '?', '*', '#', '$', '%', '^', '@', '(', ')' , '=', '-', '/'} \n",
    "\n",
    "def is_part_num(grid, num):\n",
    "    _, start_idx, end_idx = num\n",
    "    return surrounding_area(grid, start_idx, end_idx) & symbols\n",
    "\n",
    "def part1(grid):\n",
    "    nums = get_numbers(grid)\n",
    "    valid_nums = map(lambda x: x[0], filter(lambda num : is_part_num(grid, num), nums))\n",
    "    return sum(valid_nums)\n",
    "\n",
    "\n",
    "\n",
    "ex = ['467..114..',\n",
    "'...*......',\n",
    "'..35..633.',\n",
    "'......#...',\n",
    "'617*......',\n",
    "'.....+.58.',\n",
    "'..592.....',\n",
    "'......755.',\n",
    "'...$.*....',\n",
    "'.664.598..']\n",
    "\n",
    "assert part1(ex) == 4361\n",
    "\n",
    "part1(inp)"
   ]
  },
  {
   "cell_type": "markdown",
   "id": "8d671792-d541-477f-bd25-fd630a21d551",
   "metadata": {},
   "source": [
    "## Part 2:"
   ]
  },
  {
   "cell_type": "code",
   "execution_count": null,
   "id": "7f25ef1b-0858-4bce-bece-05b1920164bc",
   "metadata": {},
   "outputs": [],
   "source": []
  }
 ],
 "metadata": {
  "kernelspec": {
   "display_name": "Python 3 (ipykernel)",
   "language": "python",
   "name": "python3"
  },
  "language_info": {
   "codemirror_mode": {
    "name": "ipython",
    "version": 3
   },
   "file_extension": ".py",
   "mimetype": "text/x-python",
   "name": "python",
   "nbconvert_exporter": "python",
   "pygments_lexer": "ipython3",
   "version": "3.9.12"
  }
 },
 "nbformat": 4,
 "nbformat_minor": 5
}
