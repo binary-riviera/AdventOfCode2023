{
 "cells": [
  {
   "cell_type": "markdown",
   "id": "db026b89-ec70-4164-89b9-1b25b827a22e",
   "metadata": {},
   "source": [
    "# Day 4: Scratchcards\n",
    "\n",
    "## Part 1:\n",
    "> As far as the Elf has been able to figure out, you have to figure out which of the numbers you have appear in the list of winning numbers. The first match makes the card worth one point and each match after the first doubles the point value of that card."
   ]
  },
  {
   "cell_type": "code",
   "execution_count": 15,
   "id": "b39618b0-9331-439c-af60-691b7d3c6b02",
   "metadata": {},
   "outputs": [
    {
     "name": "stdout",
     "output_type": "stream",
     "text": [
      "[['Card   1: 58  6 71 93 96 38 25 29 17  8 ', ' 79 33 93 58 53 96 71  8 67 90 17  6 46 85 64 25 73 32 18 52 77 16 63  2 38'], ['Card   2: 34 79 17 22 15 73 61 58 46 32 ', ' 36 53 22 32 56 15 71  7 17 19 79 81 44 59 46 34 52 61 24 73 54 28 88 50 58'], ['Card   3: 20 71 73 21 96 61  4 66 19 47 ', ' 55 31 54 72 47  2 61 19 36  4 92 64 68 20 96 21 75 49 73 67 66 26 12 71 98'], ['Card   4:  6 34 71 49 82 67 22  9 72 96 ', ' 49 32 84 82  2 72 60 67 14 99 22  9 38  6  7 34 91 83 43 96 74 40 71 53 58']]\n"
     ]
    }
   ],
   "source": [
    "from utils import *\n",
    "\n",
    "inp = read_input_as_list('day4', linesplit='|')\n",
    "head(inp)"
   ]
  },
  {
   "cell_type": "code",
   "execution_count": 18,
   "id": "34ec1c25-dd68-4553-bf72-46744d40828d",
   "metadata": {},
   "outputs": [
    {
     "data": {
      "text/plain": [
       "25183"
      ]
     },
     "execution_count": 18,
     "metadata": {},
     "output_type": "execute_result"
    }
   ],
   "source": [
    "def calculate_matches(winning_numbers: set, numbers: set) -> int:\n",
    "    return int(pow(2, len(winning_numbers.intersection(numbers)) - 1))\n",
    "\n",
    "assert calculate_matches({41, 48, 83, 86, 17}, {83, 86, 6, 31, 17, 9, 48, 53}) == 8\n",
    "\n",
    "def get_card_value(winning_numbers: str, numbers: str) -> int:\n",
    "    return calculate_matches(set(winning_numbers.split()), set(numbers.split()))\n",
    "\n",
    "assert get_card_value('41 48 83 86 17 ', '83 86  6 31 17  9 48 53') == 8\n",
    "\n",
    "def part1(cards):\n",
    "    return sum(map(lambda card : get_card_value(card[0].split(':')[1], card[1]), cards))\n",
    "\n",
    "part1(inp)"
   ]
  },
  {
   "cell_type": "markdown",
   "id": "b686a85d-54b6-46b6-afd4-9f3f98554f60",
   "metadata": {},
   "source": [
    "## Part 2:\n",
    "\n",
    "> There's no such thing as \"points\". Instead, scratchcards only cause you to win more scratchcards equal to the number of winning numbers you have.\n",
    "\n",
    "> Specifically, you win copies of the scratchcards below the winning card equal to the number of matches. So, if card 10 were to have 5 matching numbers, you would win one copy each of cards 11, 12, 13, 14, and 15.\n",
    "\n",
    "> Copies of scratchcards are scored like normal scratchcards and have the same card number as the card they copied. So, if you win a copy of card 10 and it has 5 matching numbers, it would then win a copy of the same cards that the original card 10 won: cards 11, 12, 13, 14, and 15. This process repeats until none of the copies cause you to win any more cards. (Cards will never make you copy a card past the end of the table.)"
   ]
  },
  {
   "cell_type": "code",
   "execution_count": null,
   "id": "70166b4c-6545-46a3-a2f7-f31f9caf3323",
   "metadata": {},
   "outputs": [],
   "source": []
  }
 ],
 "metadata": {
  "kernelspec": {
   "display_name": "Python 3 (ipykernel)",
   "language": "python",
   "name": "python3"
  },
  "language_info": {
   "codemirror_mode": {
    "name": "ipython",
    "version": 3
   },
   "file_extension": ".py",
   "mimetype": "text/x-python",
   "name": "python",
   "nbconvert_exporter": "python",
   "pygments_lexer": "ipython3",
   "version": "3.9.12"
  }
 },
 "nbformat": 4,
 "nbformat_minor": 5
}
